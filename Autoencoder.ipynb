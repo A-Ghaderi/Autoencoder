{
 "cells": [
  {
   "cell_type": "code",
   "execution_count": null,
   "metadata": {},
   "outputs": [],
   "source": [
    "# Import libraries and dataset #\n",
    "import pandas as pd\n",
    "import seaborn as sns\n",
    "import matplotlib.pyplot as plt\n",
    "\n",
    "df = pd.read_csv('UK_foods.csv',index_col='Unnamed: 0')\n",
    "df.transpose()\n",
    "\n",
    "plt.figure(figsize=(10,8))\n",
    "sns.heatmap(df)"
   ]
  },
  {
   "cell_type": "markdown",
   "metadata": {},
   "source": [
    "## Autoencoder"
   ]
  },
  {
   "cell_type": "code",
   "execution_count": null,
   "metadata": {},
   "outputs": [],
   "source": [
    "from tensorflow.keras.models import Sequential\n",
    "from tensorflow.keras.layers import Dense\n",
    "from tensorflow.keras.optimizers import SGD\n",
    "\n",
    "# Encoder #\n",
    "encoder = Sequential()\n",
    "encoder.add(Dense(units=8,activation='relu',input_shape=[17]))\n",
    "encoder.add(Dense(units=4,activation='relu',input_shape=[8]))\n",
    "encoder.add(Dense(units=2,activation='relu',input_shape=[4]))\n",
    "\n",
    "# Decoder #\n",
    "decoder = Sequential()\n",
    "decoder.add(Dense(units=4,activation='relu',input_shape=[2]))\n",
    "decoder.add(Dense(units=8,activation='relu',input_shape=[4]))\n",
    "decoder.add(Dense(units=17,activation='relu',input_shape=[8]))\n",
    "\n",
    "# Autoencoder #\n",
    "autoencoder = Sequential([encoder,decoder])\n",
    "autoencoder.compile(loss=\"mse\" ,optimizer=SGD(lr=1.5))"
   ]
  },
  {
   "cell_type": "code",
   "execution_count": null,
   "metadata": {},
   "outputs": [],
   "source": [
    "# Scale the data #\n",
    "from sklearn.preprocessing import MinMaxScaler\n",
    "scaler = MinMaxScaler()\n",
    "scaled_df = scaler.fit_transform(df.transpose().values)\n",
    "scaled_df\n",
    "\n",
    "# Training #\n",
    "autoencoder.fit(scaled_df,scaled_df,epochs=15)"
   ]
  },
  {
   "cell_type": "code",
   "execution_count": null,
   "metadata": {},
   "outputs": [],
   "source": [
    "# Run the data through only encoder #\n",
    "encoded_2dim = encoder.predict(scaled_df)\n",
    "encoded_2dim\n",
    "df.transpose().index\n",
    "\n",
    "results = pd.DataFrame(data=encoded_2dim,index=df.transpose().index,\n",
    "                      columns=['C1','C2\n",
    "                               \n",
    "results = results.reset_index()\n",
    "results\n",
    "sns.scatterplot(x='C1',y='C2',data=results,hue='index')"
   ]
  }
 ],
 "metadata": {
  "kernelspec": {
   "display_name": "Python 3",
   "language": "python",
   "name": "python3"
  },
  "language_info": {
   "codemirror_mode": {
    "name": "ipython",
    "version": 3
   },
   "file_extension": ".py",
   "mimetype": "text/x-python",
   "name": "python",
   "nbconvert_exporter": "python",
   "pygments_lexer": "ipython3",
   "version": "3.7.4"
  }
 },
 "nbformat": 4,
 "nbformat_minor": 2
}
